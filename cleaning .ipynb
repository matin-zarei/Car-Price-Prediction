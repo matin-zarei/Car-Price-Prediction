{
 "cells": [
  {
   "cell_type": "code",
   "execution_count": 1,
   "id": "9732b4f9",
   "metadata": {},
   "outputs": [],
   "source": [
    "import numpy as np\n",
    "import pandas as pd"
   ]
  },
  {
   "cell_type": "code",
   "execution_count": 64,
   "id": "1bfdba48",
   "metadata": {},
   "outputs": [],
   "source": [
    "def process_data():\n",
    "    # Do not alter this line.\n",
    "    biopics = pd.read_csv(\"biopics.csv\", encoding='latin-1')\n",
    "    # Write your code here.\n",
    "    biopics = biopics.drop_duplicates()\n",
    "    \n",
    "    biopics.rename(columns={'box_office':'earning'}, inplace=True)\n",
    "    \n",
    "    biopics=biopics[biopics.earning.notnull()]\n",
    "    \n",
    "    biopics=biopics.loc[biopics['year_release'] >= 1990]\n",
    "    \n",
    "    biopics['country'] = biopics.country.astype('category')\n",
    "    biopics['type_of_subject'] = biopics.type_of_subject.astype('category')\n",
    "    \n",
    "    biopics['lead_actor_actress_known'] = np.where(biopics['lead_actor_actress'] == 'NAN', False, True)\n",
    "    \n",
    "    biopics['earning'] = biopics.apply(lambda row: row['earning'] / 1000000, axis=1 )\n",
    "    \n",
    "    biopics = biopics[['title', 'year_release', 'earning', 'country', 'type_of_subject','lead_actor_actress','lead_actor_actress_known']]\n",
    "    \n",
    "    biopics = biopics.sort_values('earning', ascending=False)\n",
    "    # Remember to return the right object.\n",
    "    return type(biopics)\n",
    "\n"
   ]
  },
  {
   "cell_type": "code",
   "execution_count": 66,
   "id": "7666f2ea",
   "metadata": {},
   "outputs": [
    {
     "data": {
      "text/plain": [
       "pandas.core.frame.DataFrame"
      ]
     },
     "execution_count": 66,
     "metadata": {},
     "output_type": "execute_result"
    }
   ],
   "source": [
    "process_data()"
   ]
  }
 ],
 "metadata": {
  "kernelspec": {
   "display_name": "Python 3 (ipykernel)",
   "language": "python",
   "name": "python3"
  },
  "language_info": {
   "codemirror_mode": {
    "name": "ipython",
    "version": 3
   },
   "file_extension": ".py",
   "mimetype": "text/x-python",
   "name": "python",
   "nbconvert_exporter": "python",
   "pygments_lexer": "ipython3",
   "version": "3.8.15"
  }
 },
 "nbformat": 4,
 "nbformat_minor": 5
}
